{
 "cells": [
  {
   "cell_type": "markdown",
   "metadata": {},
   "source": [
    "# Classification of News Articles \n",
    "\n",
    "It is a notebook for multiclass classification of News articles which are having classes numbered 1 to 4, \n",
    "\n",
    "where 1 is \"World News\",\n",
    "\n",
    "2 is \"Sports News\", \n",
    "\n",
    "3 is \"Business News\" and\n",
    "\n",
    "4 is \"Science-Technology News\"."
   ]
  },
  {
   "cell_type": "markdown",
   "metadata": {},
   "source": [
    "Every news website classifies the news article before publishing it so that every time visitors visit their website can easily click on the type of news that interests them. For example, I like to read the latest technology updates, so every time I visit a news website, I click on the technology section. But you may or may not like to read about technology, you may be interested in politics, business, entertainment, or maybe sports.\n",
    "\n",
    "Currently, the news articles are classified by hand by the content managers of news websites. But to save time, they can also implement a machine learning model on their websites that read the news headline or the content of the news and classifies the category of the news. In the section below, I will take you through how you can train a machine learning model for the task of news classification using the Python programming language."
   ]
  },
  {
   "cell_type": "markdown",
   "metadata": {},
   "source": [
    "### Importing libraries"
   ]
  },
  {
   "cell_type": "code",
   "execution_count": 1,
   "metadata": {
    "_cell_guid": "b1076dfc-b9ad-4769-8c92-a6c4dae69d19",
    "_uuid": "8f2839f25d086af736a60e9eeb907d3b93b6e0e5",
    "execution": {
     "iopub.execute_input": "2022-04-27T16:16:53.961128Z",
     "iopub.status.busy": "2022-04-27T16:16:53.960856Z",
     "iopub.status.idle": "2022-04-27T16:16:55.793136Z",
     "shell.execute_reply": "2022-04-27T16:16:55.792332Z",
     "shell.execute_reply.started": "2022-04-27T16:16:53.961100Z"
    }
   },
   "outputs": [
    {
     "name": "stdout",
     "output_type": "stream",
     "text": [
      "/kaggle/input/ag-news-classification-dataset/train.csv\n",
      "/kaggle/input/ag-news-classification-dataset/test.csv\n"
     ]
    }
   ],
   "source": [
    "import numpy as np \n",
    "import pandas as pd \n",
    "import nltk\n",
    "import string as s\n",
    "from nltk.corpus import stopwords\n",
    "import matplotlib.pyplot as plt\n",
    "%matplotlib inline\n",
    "import seaborn as sns\n",
    "import re\n",
    "import os\n",
    "for dirname, _, filenames in os.walk('/kaggle/input'):\n",
    "    for filename in filenames:\n",
    "        print(os.path.join(dirname, filename))\n"
   ]
  },
  {
   "cell_type": "code",
   "execution_count": 2,
   "metadata": {
    "execution": {
     "iopub.execute_input": "2022-04-27T16:16:55.795207Z",
     "iopub.status.busy": "2022-04-27T16:16:55.794775Z",
     "iopub.status.idle": "2022-04-27T16:16:56.466161Z",
     "shell.execute_reply": "2022-04-27T16:16:56.465470Z",
     "shell.execute_reply.started": "2022-04-27T16:16:55.795170Z"
    }
   },
   "outputs": [],
   "source": [
    "train_data = pd.read_csv('/kaggle/input/ag-news-classification-dataset/train.csv')\n",
    "test_data = pd.read_csv('/kaggle/input/ag-news-classification-dataset/test.csv')"
   ]
  },
  {
   "cell_type": "code",
   "execution_count": 3,
   "metadata": {
    "execution": {
     "iopub.execute_input": "2022-04-27T16:16:56.467738Z",
     "iopub.status.busy": "2022-04-27T16:16:56.467453Z",
     "iopub.status.idle": "2022-04-27T16:16:56.491101Z",
     "shell.execute_reply": "2022-04-27T16:16:56.490180Z",
     "shell.execute_reply.started": "2022-04-27T16:16:56.467704Z"
    }
   },
   "outputs": [
    {
     "data": {
      "text/html": [
       "<div>\n",
       "<style scoped>\n",
       "    .dataframe tbody tr th:only-of-type {\n",
       "        vertical-align: middle;\n",
       "    }\n",
       "\n",
       "    .dataframe tbody tr th {\n",
       "        vertical-align: top;\n",
       "    }\n",
       "\n",
       "    .dataframe thead th {\n",
       "        text-align: right;\n",
       "    }\n",
       "</style>\n",
       "<table border=\"1\" class=\"dataframe\">\n",
       "  <thead>\n",
       "    <tr style=\"text-align: right;\">\n",
       "      <th></th>\n",
       "      <th>Class Index</th>\n",
       "      <th>Title</th>\n",
       "      <th>Description</th>\n",
       "    </tr>\n",
       "  </thead>\n",
       "  <tbody>\n",
       "    <tr>\n",
       "      <th>0</th>\n",
       "      <td>3</td>\n",
       "      <td>Wall St. Bears Claw Back Into the Black (Reuters)</td>\n",
       "      <td>Reuters - Short-sellers, Wall Street's dwindli...</td>\n",
       "    </tr>\n",
       "    <tr>\n",
       "      <th>1</th>\n",
       "      <td>3</td>\n",
       "      <td>Carlyle Looks Toward Commercial Aerospace (Reu...</td>\n",
       "      <td>Reuters - Private investment firm Carlyle Grou...</td>\n",
       "    </tr>\n",
       "    <tr>\n",
       "      <th>2</th>\n",
       "      <td>3</td>\n",
       "      <td>Oil and Economy Cloud Stocks' Outlook (Reuters)</td>\n",
       "      <td>Reuters - Soaring crude prices plus worries\\ab...</td>\n",
       "    </tr>\n",
       "    <tr>\n",
       "      <th>3</th>\n",
       "      <td>3</td>\n",
       "      <td>Iraq Halts Oil Exports from Main Southern Pipe...</td>\n",
       "      <td>Reuters - Authorities have halted oil export\\f...</td>\n",
       "    </tr>\n",
       "    <tr>\n",
       "      <th>4</th>\n",
       "      <td>3</td>\n",
       "      <td>Oil prices soar to all-time record, posing new...</td>\n",
       "      <td>AFP - Tearaway world oil prices, toppling reco...</td>\n",
       "    </tr>\n",
       "  </tbody>\n",
       "</table>\n",
       "</div>"
      ],
      "text/plain": [
       "   Class Index                                              Title  \\\n",
       "0            3  Wall St. Bears Claw Back Into the Black (Reuters)   \n",
       "1            3  Carlyle Looks Toward Commercial Aerospace (Reu...   \n",
       "2            3    Oil and Economy Cloud Stocks' Outlook (Reuters)   \n",
       "3            3  Iraq Halts Oil Exports from Main Southern Pipe...   \n",
       "4            3  Oil prices soar to all-time record, posing new...   \n",
       "\n",
       "                                         Description  \n",
       "0  Reuters - Short-sellers, Wall Street's dwindli...  \n",
       "1  Reuters - Private investment firm Carlyle Grou...  \n",
       "2  Reuters - Soaring crude prices plus worries\\ab...  \n",
       "3  Reuters - Authorities have halted oil export\\f...  \n",
       "4  AFP - Tearaway world oil prices, toppling reco...  "
      ]
     },
     "execution_count": 3,
     "metadata": {},
     "output_type": "execute_result"
    }
   ],
   "source": [
    "train_data.head()"
   ]
  },
  {
   "cell_type": "code",
   "execution_count": 4,
   "metadata": {
    "execution": {
     "iopub.execute_input": "2022-04-27T16:16:56.492677Z",
     "iopub.status.busy": "2022-04-27T16:16:56.492343Z",
     "iopub.status.idle": "2022-04-27T16:16:56.501904Z",
     "shell.execute_reply": "2022-04-27T16:16:56.501060Z",
     "shell.execute_reply.started": "2022-04-27T16:16:56.492641Z"
    }
   },
   "outputs": [
    {
     "data": {
      "text/html": [
       "<div>\n",
       "<style scoped>\n",
       "    .dataframe tbody tr th:only-of-type {\n",
       "        vertical-align: middle;\n",
       "    }\n",
       "\n",
       "    .dataframe tbody tr th {\n",
       "        vertical-align: top;\n",
       "    }\n",
       "\n",
       "    .dataframe thead th {\n",
       "        text-align: right;\n",
       "    }\n",
       "</style>\n",
       "<table border=\"1\" class=\"dataframe\">\n",
       "  <thead>\n",
       "    <tr style=\"text-align: right;\">\n",
       "      <th></th>\n",
       "      <th>Class Index</th>\n",
       "      <th>Title</th>\n",
       "      <th>Description</th>\n",
       "    </tr>\n",
       "  </thead>\n",
       "  <tbody>\n",
       "    <tr>\n",
       "      <th>0</th>\n",
       "      <td>3</td>\n",
       "      <td>Fears for T N pension after talks</td>\n",
       "      <td>Unions representing workers at Turner   Newall...</td>\n",
       "    </tr>\n",
       "    <tr>\n",
       "      <th>1</th>\n",
       "      <td>4</td>\n",
       "      <td>The Race is On: Second Private Team Sets Launc...</td>\n",
       "      <td>SPACE.com - TORONTO, Canada -- A second\\team o...</td>\n",
       "    </tr>\n",
       "    <tr>\n",
       "      <th>2</th>\n",
       "      <td>4</td>\n",
       "      <td>Ky. Company Wins Grant to Study Peptides (AP)</td>\n",
       "      <td>AP - A company founded by a chemistry research...</td>\n",
       "    </tr>\n",
       "    <tr>\n",
       "      <th>3</th>\n",
       "      <td>4</td>\n",
       "      <td>Prediction Unit Helps Forecast Wildfires (AP)</td>\n",
       "      <td>AP - It's barely dawn when Mike Fitzpatrick st...</td>\n",
       "    </tr>\n",
       "    <tr>\n",
       "      <th>4</th>\n",
       "      <td>4</td>\n",
       "      <td>Calif. Aims to Limit Farm-Related Smog (AP)</td>\n",
       "      <td>AP - Southern California's smog-fighting agenc...</td>\n",
       "    </tr>\n",
       "  </tbody>\n",
       "</table>\n",
       "</div>"
      ],
      "text/plain": [
       "   Class Index                                              Title  \\\n",
       "0            3                  Fears for T N pension after talks   \n",
       "1            4  The Race is On: Second Private Team Sets Launc...   \n",
       "2            4      Ky. Company Wins Grant to Study Peptides (AP)   \n",
       "3            4      Prediction Unit Helps Forecast Wildfires (AP)   \n",
       "4            4        Calif. Aims to Limit Farm-Related Smog (AP)   \n",
       "\n",
       "                                         Description  \n",
       "0  Unions representing workers at Turner   Newall...  \n",
       "1  SPACE.com - TORONTO, Canada -- A second\\team o...  \n",
       "2  AP - A company founded by a chemistry research...  \n",
       "3  AP - It's barely dawn when Mike Fitzpatrick st...  \n",
       "4  AP - Southern California's smog-fighting agenc...  "
      ]
     },
     "execution_count": 4,
     "metadata": {},
     "output_type": "execute_result"
    }
   ],
   "source": [
    "test_data.head()"
   ]
  },
  {
   "cell_type": "code",
   "execution_count": 5,
   "metadata": {
    "execution": {
     "iopub.execute_input": "2022-04-27T16:16:56.504680Z",
     "iopub.status.busy": "2022-04-27T16:16:56.504167Z",
     "iopub.status.idle": "2022-04-27T16:16:56.542002Z",
     "shell.execute_reply": "2022-04-27T16:16:56.541338Z",
     "shell.execute_reply.started": "2022-04-27T16:16:56.504646Z"
    }
   },
   "outputs": [
    {
     "name": "stdout",
     "output_type": "stream",
     "text": [
      "<class 'pandas.core.frame.DataFrame'>\n",
      "RangeIndex: 120000 entries, 0 to 119999\n",
      "Data columns (total 3 columns):\n",
      "Class Index    120000 non-null int64\n",
      "Title          120000 non-null object\n",
      "Description    120000 non-null object\n",
      "dtypes: int64(1), object(2)\n",
      "memory usage: 2.7+ MB\n"
     ]
    }
   ],
   "source": [
    "train_data.info()"
   ]
  },
  {
   "cell_type": "code",
   "execution_count": 6,
   "metadata": {
    "execution": {
     "iopub.execute_input": "2022-04-27T16:16:56.544190Z",
     "iopub.status.busy": "2022-04-27T16:16:56.543989Z",
     "iopub.status.idle": "2022-04-27T16:16:56.551196Z",
     "shell.execute_reply": "2022-04-27T16:16:56.550415Z",
     "shell.execute_reply.started": "2022-04-27T16:16:56.544169Z"
    }
   },
   "outputs": [
    {
     "name": "stdout",
     "output_type": "stream",
     "text": [
      "train ==> (120000, 3)\n",
      "test ==> (7600, 3)\n"
     ]
    }
   ],
   "source": [
    "print(\"train ==>\",train_data.shape)\n",
    "print(\"test ==>\",test_data.shape)"
   ]
  },
  {
   "cell_type": "markdown",
   "metadata": {},
   "source": [
    "### CountPlot "
   ]
  },
  {
   "cell_type": "code",
   "execution_count": 7,
   "metadata": {
    "execution": {
     "iopub.execute_input": "2022-04-27T16:16:56.712238Z",
     "iopub.status.busy": "2022-04-27T16:16:56.712038Z",
     "iopub.status.idle": "2022-04-27T16:16:56.849088Z",
     "shell.execute_reply": "2022-04-27T16:16:56.848356Z",
     "shell.execute_reply.started": "2022-04-27T16:16:56.712216Z"
    }
   },
   "outputs": [
    {
     "data": {
      "image/png": "[encoded data removed]",
      "text/plain": [
       "<Figure size 432x288 with 1 Axes>"
      ]
     },
     "metadata": {
      "needs_background": "light"
     },
     "output_type": "display_data"
    }
   ],
   "source": [
    "#countplot traing data\n",
    "sns.countplot(train_data['Class Index']);"
   ]
  },
  {
   "cell_type": "code",
   "execution_count": 8,
   "metadata": {
    "execution": {
     "iopub.execute_input": "2022-04-27T16:16:57.628297Z",
     "iopub.status.busy": "2022-04-27T16:16:57.627996Z",
     "iopub.status.idle": "2022-04-27T16:16:57.747422Z",
     "shell.execute_reply": "2022-04-27T16:16:57.746693Z",
     "shell.execute_reply.started": "2022-04-27T16:16:57.628270Z"
    }
   },
   "outputs": [
    {
     "data": {
      "text/plain": [
       "<matplotlib.axes._subplots.AxesSubplot at 0x7fb77b994860>"
      ]
     },
     "execution_count": 8,
     "metadata": {},
     "output_type": "execute_result"
    },
    {
     "data": {
      "image/png": "[encoded data removed]",
      "text/plain": [
       "<Figure size 432x288 with 1 Axes>"
      ]
     },
     "metadata": {
      "needs_background": "light"
     },
     "output_type": "display_data"
    }
   ],
   "source": [
    "# countplot test data\n",
    "sns.countplot(test_data['Class Index'])"
   ]
  },
  {
   "cell_type": "markdown",
   "metadata": {},
   "source": [
    "### spliting data into input and label"
   ]
  },
  {
   "cell_type": "code",
   "execution_count": 9,
   "metadata": {
    "execution": {
     "iopub.execute_input": "2022-04-27T16:16:58.945772Z",
     "iopub.status.busy": "2022-04-27T16:16:58.945497Z",
     "iopub.status.idle": "2022-04-27T16:16:58.950563Z",
     "shell.execute_reply": "2022-04-27T16:16:58.949462Z",
     "shell.execute_reply.started": "2022-04-27T16:16:58.945744Z"
    }
   },
   "outputs": [],
   "source": [
    "train_x = train_data.Description\n",
    "test_x = test_data.Description\n",
    "\n",
    "train_y =  train_data['Class Index']\n",
    "test_y = test_data['Class Index']"
   ]
  },
  {
   "cell_type": "markdown",
   "metadata": {},
   "source": [
    "### Preprocessing of data\n",
    "#### the data is preprocessed in NLP it is also known as text normalization. some of the most common methods of text normalization are\n",
    "\n",
    "#### Tokenization\n",
    "#### lemmatization\n",
    "#### stemming"
   ]
  },
  {
   "cell_type": "code",
   "execution_count": 10,
   "metadata": {
    "execution": {
     "iopub.execute_input": "2022-04-27T16:16:59.863254Z",
     "iopub.status.busy": "2022-04-27T16:16:59.862976Z",
     "iopub.status.idle": "2022-04-27T16:16:59.867606Z",
     "shell.execute_reply": "2022-04-27T16:16:59.866835Z",
     "shell.execute_reply.started": "2022-04-27T16:16:59.863224Z"
    }
   },
   "outputs": [],
   "source": [
    "training_x = train_data.Description\n",
    "testing_x = test_data.Description\n",
    "\n",
    "training_y =  train_data['Class Index']\n",
    "testing_y = test_data['Class Index']"
   ]
  },
  {
   "cell_type": "markdown",
   "metadata": {},
   "source": [
    "### Removal of HTML Tag"
   ]
  },
  {
   "cell_type": "code",
   "execution_count": 11,
   "metadata": {
    "execution": {
     "iopub.execute_input": "2022-04-27T16:17:00.775699Z",
     "iopub.status.busy": "2022-04-27T16:17:00.775390Z",
     "iopub.status.idle": "2022-04-27T16:17:00.780033Z",
     "shell.execute_reply": "2022-04-27T16:17:00.779270Z",
     "shell.execute_reply.started": "2022-04-27T16:17:00.775670Z"
    }
   },
   "outputs": [],
   "source": [
    "def striphtml(data):\n",
    "    p = re.compile(r'<.*?>')\n",
    "    return p.sub('', data)"
   ]
  },
  {
   "cell_type": "code",
   "execution_count": 12,
   "metadata": {
    "execution": {
     "iopub.execute_input": "2022-04-27T16:17:01.835291Z",
     "iopub.status.busy": "2022-04-27T16:17:01.835022Z",
     "iopub.status.idle": "2022-04-27T16:17:02.011488Z",
     "shell.execute_reply": "2022-04-27T16:17:02.010724Z",
     "shell.execute_reply.started": "2022-04-27T16:17:01.835264Z"
    }
   },
   "outputs": [
    {
     "data": {
      "text/plain": [
       "0         Reuters - Short-sellers, Wall Street's dwindli...\n",
       "1         Reuters - Private investment firm Carlyle Grou...\n",
       "2         Reuters - Soaring crude prices plus worries\\ab...\n",
       "3         Reuters - Authorities have halted oil export\\f...\n",
       "4         AFP - Tearaway world oil prices, toppling reco...\n",
       "                                ...                        \n",
       "119995     KARACHI (Reuters) - Pakistani President Perve...\n",
       "119996    Red Sox general manager Theo Epstein acknowled...\n",
       "119997    The Miami Dolphins will put their courtship of...\n",
       "119998    PITTSBURGH at NY GIANTS Time: 1:30 p.m. Line: ...\n",
       "119999    INDIANAPOLIS -- All-Star Vince Carter was trad...\n",
       "Name: Description, Length: 120000, dtype: object"
      ]
     },
     "execution_count": 12,
     "metadata": {},
     "output_type": "execute_result"
    }
   ],
   "source": [
    "train_x = train_x.apply(striphtml)\n",
    "train_x"
   ]
  },
  {
   "cell_type": "code",
   "execution_count": 13,
   "metadata": {
    "execution": {
     "iopub.execute_input": "2022-04-27T16:17:03.204812Z",
     "iopub.status.busy": "2022-04-27T16:17:03.204535Z",
     "iopub.status.idle": "2022-04-27T16:17:03.220312Z",
     "shell.execute_reply": "2022-04-27T16:17:03.219040Z",
     "shell.execute_reply.started": "2022-04-27T16:17:03.204783Z"
    }
   },
   "outputs": [],
   "source": [
    "test_x = test_x.apply(striphtml)"
   ]
  },
  {
   "cell_type": "markdown",
   "metadata": {},
   "source": [
    "### Removal of URL"
   ]
  },
  {
   "cell_type": "code",
   "execution_count": 14,
   "metadata": {
    "execution": {
     "iopub.execute_input": "2022-04-27T16:17:03.974931Z",
     "iopub.status.busy": "2022-04-27T16:17:03.974666Z",
     "iopub.status.idle": "2022-04-27T16:17:03.979561Z",
     "shell.execute_reply": "2022-04-27T16:17:03.978557Z",
     "shell.execute_reply.started": "2022-04-27T16:17:03.974904Z"
    }
   },
   "outputs": [],
   "source": [
    "def remove_url(data):\n",
    "    return  re.sub(r'\\s*(?:https?://)?www\\.\\S*\\.[A-Za-z]{2,5}\\s*', ' ', data).strip()"
   ]
  },
  {
   "cell_type": "code",
   "execution_count": 15,
   "metadata": {
    "execution": {
     "iopub.execute_input": "2022-04-27T16:17:04.825992Z",
     "iopub.status.busy": "2022-04-27T16:17:04.825726Z",
     "iopub.status.idle": "2022-04-27T16:17:09.446189Z",
     "shell.execute_reply": "2022-04-27T16:17:09.445400Z",
     "shell.execute_reply.started": "2022-04-27T16:17:04.825966Z"
    }
   },
   "outputs": [
    {
     "data": {
      "text/plain": [
       "0         Reuters - Short-sellers, Wall Street's dwindli...\n",
       "1         Reuters - Private investment firm Carlyle Grou...\n",
       "2         Reuters - Soaring crude prices plus worries\\ab...\n",
       "3         Reuters - Authorities have halted oil export\\f...\n",
       "4         AFP - Tearaway world oil prices, toppling reco...\n",
       "                                ...                        \n",
       "119995    KARACHI (Reuters) - Pakistani President Pervez...\n",
       "119996    Red Sox general manager Theo Epstein acknowled...\n",
       "119997    The Miami Dolphins will put their courtship of...\n",
       "119998    PITTSBURGH at NY GIANTS Time: 1:30 p.m. Line: ...\n",
       "119999    INDIANAPOLIS -- All-Star Vince Carter was trad...\n",
       "Name: Description, Length: 120000, dtype: object"
      ]
     },
     "execution_count": 15,
     "metadata": {},
     "output_type": "execute_result"
    }
   ],
   "source": [
    "train_x = train_x.apply(remove_url)\n",
    "train_x"
   ]
  },
  {
   "cell_type": "raw",
   "metadata": {},
   "source": [
    "test_x = test_x.apply(remove_url)"
   ]
  },
  {
   "cell_type": "markdown",
   "metadata": {},
   "source": [
    "### Tokenization of Data"
   ]
  },
  {
   "cell_type": "code",
   "execution_count": 16,
   "metadata": {
    "execution": {
     "iopub.execute_input": "2022-04-27T16:17:09.448348Z",
     "iopub.status.busy": "2022-04-27T16:17:09.448044Z",
     "iopub.status.idle": "2022-04-27T16:17:09.452862Z",
     "shell.execute_reply": "2022-04-27T16:17:09.452142Z",
     "shell.execute_reply.started": "2022-04-27T16:17:09.448306Z"
    }
   },
   "outputs": [],
   "source": [
    "# from nltk.tokenize import word_tokenize\n",
    "\n",
    "def word_tok(data):\n",
    "    tokens = re.findall(\"[\\w']+\", data)\n",
    "#     print(tokens)\n",
    "    return tokens\n"
   ]
  },
  {
   "cell_type": "code",
   "execution_count": 17,
   "metadata": {
    "execution": {
     "iopub.execute_input": "2022-04-27T16:17:09.454543Z",
     "iopub.status.busy": "2022-04-27T16:17:09.454189Z",
     "iopub.status.idle": "2022-04-27T16:17:11.219800Z",
     "shell.execute_reply": "2022-04-27T16:17:11.218927Z",
     "shell.execute_reply.started": "2022-04-27T16:17:09.454508Z"
    }
   },
   "outputs": [],
   "source": [
    "train_x = train_x.apply(word_tok)"
   ]
  },
  {
   "cell_type": "code",
   "execution_count": 18,
   "metadata": {
    "execution": {
     "iopub.execute_input": "2022-04-27T16:17:11.221319Z",
     "iopub.status.busy": "2022-04-27T16:17:11.221055Z",
     "iopub.status.idle": "2022-04-27T16:17:11.337737Z",
     "shell.execute_reply": "2022-04-27T16:17:11.336917Z",
     "shell.execute_reply.started": "2022-04-27T16:17:11.221287Z"
    }
   },
   "outputs": [],
   "source": [
    "test_x =test_x.apply(word_tok)"
   ]
  },
  {
   "cell_type": "markdown",
   "metadata": {},
   "source": [
    "### removal of stopwords"
   ]
  },
  {
   "cell_type": "code",
   "execution_count": 19,
   "metadata": {
    "execution": {
     "iopub.execute_input": "2022-04-27T16:17:11.340602Z",
     "iopub.status.busy": "2022-04-27T16:17:11.340285Z",
     "iopub.status.idle": "2022-04-27T16:17:11.345997Z",
     "shell.execute_reply": "2022-04-27T16:17:11.345142Z",
     "shell.execute_reply.started": "2022-04-27T16:17:11.340567Z"
    }
   },
   "outputs": [],
   "source": [
    "def remove_stopwords(data):\n",
    "    stopWords = stopwords.words('english')\n",
    "    new_list = []\n",
    "    for i in data:\n",
    "        if i.lower() not in stopWords:\n",
    "            new_list.append(i)\n",
    "#     print(new_list)\n",
    "    return new_list"
   ]
  },
  {
   "cell_type": "code",
   "execution_count": 20,
   "metadata": {
    "execution": {
     "iopub.execute_input": "2022-04-27T16:17:11.347703Z",
     "iopub.status.busy": "2022-04-27T16:17:11.347289Z",
     "iopub.status.idle": "2022-04-27T16:17:37.483065Z",
     "shell.execute_reply": "2022-04-27T16:17:37.482194Z",
     "shell.execute_reply.started": "2022-04-27T16:17:11.347669Z"
    }
   },
   "outputs": [],
   "source": [
    "train_x = train_x.apply(remove_stopwords)\n",
    "test_x = test_x.apply(remove_stopwords)"
   ]
  },
  {
   "cell_type": "markdown",
   "metadata": {},
   "source": [
    "### Removal of Punctuation Symbols"
   ]
  },
  {
   "cell_type": "code",
   "execution_count": 21,
   "metadata": {
    "execution": {
     "iopub.execute_input": "2022-04-27T16:17:37.484813Z",
     "iopub.status.busy": "2022-04-27T16:17:37.484545Z",
     "iopub.status.idle": "2022-04-27T16:17:37.490226Z",
     "shell.execute_reply": "2022-04-27T16:17:37.489530Z",
     "shell.execute_reply.started": "2022-04-27T16:17:37.484781Z"
    }
   },
   "outputs": [],
   "source": [
    "def remove_punctuations(data):\n",
    "    new_list = []\n",
    "    for i in data:\n",
    "        for j in s.punctuation:\n",
    "            i = i.replace(j,'')\n",
    "        new_list.append(i)\n",
    "    return new_list"
   ]
  },
  {
   "cell_type": "code",
   "execution_count": 22,
   "metadata": {
    "execution": {
     "iopub.execute_input": "2022-04-27T16:17:37.492196Z",
     "iopub.status.busy": "2022-04-27T16:17:37.491675Z",
     "iopub.status.idle": "2022-04-27T16:17:54.018199Z",
     "shell.execute_reply": "2022-04-27T16:17:54.017552Z",
     "shell.execute_reply.started": "2022-04-27T16:17:37.492158Z"
    }
   },
   "outputs": [],
   "source": [
    "train_x = train_x.apply(remove_punctuations)\n",
    "test_x = test_x.apply(remove_punctuations)"
   ]
  },
  {
   "cell_type": "markdown",
   "metadata": {},
   "source": [
    "### removal of numbers"
   ]
  },
  {
   "cell_type": "code",
   "execution_count": 23,
   "metadata": {
    "execution": {
     "iopub.execute_input": "2022-04-27T16:17:54.020863Z",
     "iopub.status.busy": "2022-04-27T16:17:54.020662Z",
     "iopub.status.idle": "2022-04-27T16:17:54.026635Z",
     "shell.execute_reply": "2022-04-27T16:17:54.025924Z",
     "shell.execute_reply.started": "2022-04-27T16:17:54.020840Z"
    }
   },
   "outputs": [],
   "source": [
    "def remove_number(data):\n",
    "    no_digit_list = []\n",
    "    new_list = []\n",
    "    \n",
    "    for i in data:\n",
    "        for j in s.digits:\n",
    "            i = i.replace(j,'')\n",
    "        no_digit_list.append(i)\n",
    "    \n",
    "    for i in no_digit_list:\n",
    "        if i!='':\n",
    "            new_list.append(i)\n",
    "    return new_list\n",
    "\n"
   ]
  },
  {
   "cell_type": "code",
   "execution_count": 24,
   "metadata": {
    "execution": {
     "iopub.execute_input": "2022-04-27T16:17:54.029633Z",
     "iopub.status.busy": "2022-04-27T16:17:54.029139Z",
     "iopub.status.idle": "2022-04-27T16:18:00.342872Z",
     "shell.execute_reply": "2022-04-27T16:18:00.342038Z",
     "shell.execute_reply.started": "2022-04-27T16:17:54.029597Z"
    }
   },
   "outputs": [],
   "source": [
    "train_x = train_x.apply(remove_number)\n",
    "test_x = test_x.apply(remove_number)"
   ]
  },
  {
   "cell_type": "markdown",
   "metadata": {},
   "source": [
    "### Stemming of dataset"
   ]
  },
  {
   "cell_type": "code",
   "execution_count": 25,
   "metadata": {
    "execution": {
     "iopub.execute_input": "2022-04-27T16:18:00.344423Z",
     "iopub.status.busy": "2022-04-27T16:18:00.344153Z",
     "iopub.status.idle": "2022-04-27T16:18:00.349821Z",
     "shell.execute_reply": "2022-04-27T16:18:00.349058Z",
     "shell.execute_reply.started": "2022-04-27T16:18:00.344390Z"
    }
   },
   "outputs": [],
   "source": [
    "import nltk\n",
    "\n",
    "def stemming(data):\n",
    "    porter_stemmer = nltk.PorterStemmer()\n",
    "    roots = [porter_stemmer.stem(i) for i in data]\n",
    "    return roots"
   ]
  },
  {
   "cell_type": "code",
   "execution_count": 26,
   "metadata": {
    "execution": {
     "iopub.execute_input": "2022-04-27T16:18:00.351540Z",
     "iopub.status.busy": "2022-04-27T16:18:00.351057Z",
     "iopub.status.idle": "2022-04-27T16:19:12.175923Z",
     "shell.execute_reply": "2022-04-27T16:19:12.175081Z",
     "shell.execute_reply.started": "2022-04-27T16:18:00.351453Z"
    }
   },
   "outputs": [],
   "source": [
    "train_x = train_x.apply(stemming)\n",
    "test_x = test_x.apply(stemming)"
   ]
  },
  {
   "cell_type": "markdown",
   "metadata": {},
   "source": [
    "### Lemmatization of data\n"
   ]
  },
  {
   "cell_type": "code",
   "execution_count": 27,
   "metadata": {
    "execution": {
     "iopub.execute_input": "2022-04-27T16:19:12.177658Z",
     "iopub.status.busy": "2022-04-27T16:19:12.177316Z",
     "iopub.status.idle": "2022-04-27T16:19:12.183894Z",
     "shell.execute_reply": "2022-04-27T16:19:12.183193Z",
     "shell.execute_reply.started": "2022-04-27T16:19:12.177620Z"
    }
   },
   "outputs": [],
   "source": [
    "def lemmatization(data):\n",
    "    lemmatizer = nltk.stem.WordNetLemmatizer()\n",
    "    roots = [lemmatizer.lemmatize(i) for i in data]\n",
    "    return roots"
   ]
  },
  {
   "cell_type": "code",
   "execution_count": 28,
   "metadata": {
    "execution": {
     "iopub.execute_input": "2022-04-27T16:19:12.185703Z",
     "iopub.status.busy": "2022-04-27T16:19:12.185203Z",
     "iopub.status.idle": "2022-04-27T16:19:28.454692Z",
     "shell.execute_reply": "2022-04-27T16:19:28.453970Z",
     "shell.execute_reply.started": "2022-04-27T16:19:12.185665Z"
    }
   },
   "outputs": [],
   "source": [
    "train_x = train_x.apply(lemmatization)\n",
    "test_x = test_x.apply(lemmatization)"
   ]
  },
  {
   "cell_type": "markdown",
   "metadata": {},
   "source": [
    "### remove extra words"
   ]
  },
  {
   "cell_type": "code",
   "execution_count": 29,
   "metadata": {
    "execution": {
     "iopub.execute_input": "2022-04-27T16:19:28.456458Z",
     "iopub.status.busy": "2022-04-27T16:19:28.456162Z",
     "iopub.status.idle": "2022-04-27T16:19:28.462662Z",
     "shell.execute_reply": "2022-04-27T16:19:28.461920Z",
     "shell.execute_reply.started": "2022-04-27T16:19:28.456404Z"
    }
   },
   "outputs": [],
   "source": [
    "def remove_extraWords(data):\n",
    "    extra_words =['href','iii','lt','gt','ii','com','quot']\n",
    "    \n",
    "    new_list = []\n",
    "    for i in data:\n",
    "        if i not in extra_words:\n",
    "            new_list.append(i)\n",
    "    return new_list"
   ]
  },
  {
   "cell_type": "code",
   "execution_count": 30,
   "metadata": {
    "execution": {
     "iopub.execute_input": "2022-04-27T16:19:28.464202Z",
     "iopub.status.busy": "2022-04-27T16:19:28.463898Z",
     "iopub.status.idle": "2022-04-27T16:19:29.453402Z",
     "shell.execute_reply": "2022-04-27T16:19:29.452674Z",
     "shell.execute_reply.started": "2022-04-27T16:19:28.464166Z"
    }
   },
   "outputs": [],
   "source": [
    "train_x = train_x.apply(remove_extraWords)\n",
    "test_x = test_x.apply(remove_extraWords)"
   ]
  },
  {
   "cell_type": "code",
   "execution_count": 31,
   "metadata": {
    "execution": {
     "iopub.execute_input": "2022-04-27T16:19:29.454951Z",
     "iopub.status.busy": "2022-04-27T16:19:29.454687Z",
     "iopub.status.idle": "2022-04-27T16:19:30.048719Z",
     "shell.execute_reply": "2022-04-27T16:19:30.048009Z",
     "shell.execute_reply.started": "2022-04-27T16:19:29.454918Z"
    }
   },
   "outputs": [],
   "source": [
    "train_x = [\" \".join(map(str, lst)) for lst in train_x]\n",
    "test_x = [\" \".join(map(str, lst)) for lst in test_x]"
   ]
  },
  {
   "cell_type": "markdown",
   "metadata": {},
   "source": [
    "### Feature Extraction"
   ]
  },
  {
   "cell_type": "code",
   "execution_count": 32,
   "metadata": {
    "execution": {
     "iopub.execute_input": "2022-04-27T16:19:30.052551Z",
     "iopub.status.busy": "2022-04-27T16:19:30.052318Z",
     "iopub.status.idle": "2022-04-27T16:19:30.059187Z",
     "shell.execute_reply": "2022-04-27T16:19:30.058377Z",
     "shell.execute_reply.started": "2022-04-27T16:19:30.052526Z"
    }
   },
   "outputs": [
    {
     "data": {
      "text/plain": [
       "'Feature are extracted from the datset and TF-IDF (term frequency - Inverse Documents Frequence ) \\nis used for this purpose'"
      ]
     },
     "execution_count": 32,
     "metadata": {},
     "output_type": "execute_result"
    }
   ],
   "source": [
    "\"\"\"Feature are extracted from the datset and TF-IDF (term frequency - Inverse Documents Frequence ) \n",
    "is used for this purpose\"\"\"\n"
   ]
  },
  {
   "cell_type": "code",
   "execution_count": 33,
   "metadata": {
    "execution": {
     "iopub.execute_input": "2022-04-27T16:19:30.061196Z",
     "iopub.status.busy": "2022-04-27T16:19:30.060699Z",
     "iopub.status.idle": "2022-04-27T16:19:52.381684Z",
     "shell.execute_reply": "2022-04-27T16:19:52.380906Z",
     "shell.execute_reply.started": "2022-04-27T16:19:30.061161Z"
    }
   },
   "outputs": [
    {
     "name": "stdout",
     "output_type": "stream",
     "text": [
      "no of features extracted\n",
      "60078\n",
      "['aa', 'aa billion', 'aa footbal', 'aa target', 'aa target stock', 'aaa', 'aapl', 'aapl qtype', 'aapl qtype sym', 'aaron', 'aaron peirsol', 'aaron rodger', 'ab', 'ababa', 'abandon', 'abandon microsoft', 'abandon microsoft window', 'abandon nuclear', 'abandon plan', 'abat', 'abba', 'abba said', 'abbey', 'abbey nation', 'abbey nation plc', 'abbi', 'abbi wambach', 'abbott', 'abbott laboratori', 'abc', 'abc monday', 'abc monday night', 'abc new', 'abdic', 'abduct', 'abduct gunpoint', 'abduct iraq', 'abduct three', 'abduct two', 'abductor', 'abdul', 'abdul kalam', 'abdullah', 'abdullah ahmad', 'abdullah ahmad badawi', 'abdullah ii', 'aberdeen', 'abid', 'abidjan', 'abidjan ivori', 'abidjan ivori coast', 'abidjan reuter', 'abil', 'abil run', 'abimael', 'abimael guzman', 'abkhazia', 'abl', 'abl buy', 'abl get', 'abl make', 'abl play', 'abl take', 'abl use', 'ablaz', 'abn', 'abn amro', 'aboard', 'aboard intern', 'aboard intern space', 'abolish', 'aborigin', 'abort', 'abort right', 'abound', 'abraham', 'abramovich', 'abroad', 'abrupt', 'abruptli', 'abruptli resign', 'absa', 'absenc', 'absent', 'absente', 'absente ballot', 'absolut', 'absorb', 'abstract', 'abu', 'abu bakar', 'abu bakar ba', 'abu bakar bashir', 'abu dhabi', 'abu ghraib', 'abu ghraib prison', 'abu hamza', 'abu hamza al', 'abu musab', 'abu musab al']\n"
     ]
    }
   ],
   "source": [
    "from sklearn.feature_extraction.text import TfidfVectorizer\n",
    "\n",
    "TfIdf = TfidfVectorizer(min_df=8,ngram_range=(1,3))\n",
    "train_1 = TfIdf.fit_transform(train_x)\n",
    "test_1 = TfIdf.transform(test_x)\n",
    "\n",
    "print(\"no of features extracted\")\n",
    "print(len(TfIdf.get_feature_names()))\n",
    "print(TfIdf.get_feature_names()[:100])"
   ]
  },
  {
   "cell_type": "code",
   "execution_count": 34,
   "metadata": {
    "execution": {
     "iopub.execute_input": "2022-04-27T16:19:52.383348Z",
     "iopub.status.busy": "2022-04-27T16:19:52.382907Z",
     "iopub.status.idle": "2022-04-27T16:20:02.090754Z",
     "shell.execute_reply": "2022-04-27T16:20:02.089970Z",
     "shell.execute_reply.started": "2022-04-27T16:19:52.383311Z"
    }
   },
   "outputs": [],
   "source": [
    "train_array = train_1.toarray()\n",
    "test_array = test_1.toarray()"
   ]
  },
  {
   "cell_type": "code",
   "execution_count": 35,
   "metadata": {
    "execution": {
     "iopub.execute_input": "2022-04-27T16:20:02.092603Z",
     "iopub.status.busy": "2022-04-27T16:20:02.092212Z",
     "iopub.status.idle": "2022-04-27T16:20:02.099501Z",
     "shell.execute_reply": "2022-04-27T16:20:02.098647Z",
     "shell.execute_reply.started": "2022-04-27T16:20:02.092565Z"
    }
   },
   "outputs": [
    {
     "data": {
      "text/plain": [
       "(120000, 60078)"
      ]
     },
     "execution_count": 35,
     "metadata": {},
     "output_type": "execute_result"
    }
   ],
   "source": [
    "train_array.shape"
   ]
  },
  {
   "cell_type": "code",
   "execution_count": 36,
   "metadata": {
    "execution": {
     "iopub.execute_input": "2022-04-27T16:20:02.101753Z",
     "iopub.status.busy": "2022-04-27T16:20:02.101483Z",
     "iopub.status.idle": "2022-04-27T16:20:02.113571Z",
     "shell.execute_reply": "2022-04-27T16:20:02.112796Z",
     "shell.execute_reply.started": "2022-04-27T16:20:02.101721Z"
    }
   },
   "outputs": [
    {
     "data": {
      "text/plain": [
       "(7600, 60078)"
      ]
     },
     "execution_count": 36,
     "metadata": {},
     "output_type": "execute_result"
    }
   ],
   "source": [
    "test_array.shape"
   ]
  },
  {
   "cell_type": "code",
   "execution_count": 37,
   "metadata": {
    "execution": {
     "iopub.execute_input": "2022-04-27T16:20:02.115761Z",
     "iopub.status.busy": "2022-04-27T16:20:02.115381Z",
     "iopub.status.idle": "2022-04-27T16:20:02.260161Z",
     "shell.execute_reply": "2022-04-27T16:20:02.259545Z",
     "shell.execute_reply.started": "2022-04-27T16:20:02.115722Z"
    }
   },
   "outputs": [
    {
     "data": {
      "text/html": [
       "<div>\n",
       "<style scoped>\n",
       "    .dataframe tbody tr th:only-of-type {\n",
       "        vertical-align: middle;\n",
       "    }\n",
       "\n",
       "    .dataframe tbody tr th {\n",
       "        vertical-align: top;\n",
       "    }\n",
       "\n",
       "    .dataframe thead th {\n",
       "        text-align: right;\n",
       "    }\n",
       "</style>\n",
       "<table border=\"1\" class=\"dataframe\">\n",
       "  <thead>\n",
       "    <tr style=\"text-align: right;\">\n",
       "      <th></th>\n",
       "      <th>aa</th>\n",
       "      <th>aa billion</th>\n",
       "      <th>aa footbal</th>\n",
       "      <th>aa target</th>\n",
       "      <th>aa target stock</th>\n",
       "      <th>aaa</th>\n",
       "      <th>aapl</th>\n",
       "      <th>aapl qtype</th>\n",
       "      <th>aapl qtype sym</th>\n",
       "      <th>aaron</th>\n",
       "      <th>...</th>\n",
       "      <th>zone</th>\n",
       "      <th>zoo</th>\n",
       "      <th>zook</th>\n",
       "      <th>zook fire</th>\n",
       "      <th>zoom</th>\n",
       "      <th>zurich</th>\n",
       "      <th>zurich challeng</th>\n",
       "      <th>zurich reuter</th>\n",
       "      <th>zurich switzerland</th>\n",
       "      <th>zvonareva</th>\n",
       "    </tr>\n",
       "  </thead>\n",
       "  <tbody>\n",
       "    <tr>\n",
       "      <th>0</th>\n",
       "      <td>0.0</td>\n",
       "      <td>0.0</td>\n",
       "      <td>0.0</td>\n",
       "      <td>0.0</td>\n",
       "      <td>0.0</td>\n",
       "      <td>0.0</td>\n",
       "      <td>0.0</td>\n",
       "      <td>0.0</td>\n",
       "      <td>0.0</td>\n",
       "      <td>0.0</td>\n",
       "      <td>...</td>\n",
       "      <td>0.0</td>\n",
       "      <td>0.0</td>\n",
       "      <td>0.0</td>\n",
       "      <td>0.0</td>\n",
       "      <td>0.0</td>\n",
       "      <td>0.0</td>\n",
       "      <td>0.0</td>\n",
       "      <td>0.0</td>\n",
       "      <td>0.0</td>\n",
       "      <td>0.0</td>\n",
       "    </tr>\n",
       "    <tr>\n",
       "      <th>1</th>\n",
       "      <td>0.0</td>\n",
       "      <td>0.0</td>\n",
       "      <td>0.0</td>\n",
       "      <td>0.0</td>\n",
       "      <td>0.0</td>\n",
       "      <td>0.0</td>\n",
       "      <td>0.0</td>\n",
       "      <td>0.0</td>\n",
       "      <td>0.0</td>\n",
       "      <td>0.0</td>\n",
       "      <td>...</td>\n",
       "      <td>0.0</td>\n",
       "      <td>0.0</td>\n",
       "      <td>0.0</td>\n",
       "      <td>0.0</td>\n",
       "      <td>0.0</td>\n",
       "      <td>0.0</td>\n",
       "      <td>0.0</td>\n",
       "      <td>0.0</td>\n",
       "      <td>0.0</td>\n",
       "      <td>0.0</td>\n",
       "    </tr>\n",
       "    <tr>\n",
       "      <th>2</th>\n",
       "      <td>0.0</td>\n",
       "      <td>0.0</td>\n",
       "      <td>0.0</td>\n",
       "      <td>0.0</td>\n",
       "      <td>0.0</td>\n",
       "      <td>0.0</td>\n",
       "      <td>0.0</td>\n",
       "      <td>0.0</td>\n",
       "      <td>0.0</td>\n",
       "      <td>0.0</td>\n",
       "      <td>...</td>\n",
       "      <td>0.0</td>\n",
       "      <td>0.0</td>\n",
       "      <td>0.0</td>\n",
       "      <td>0.0</td>\n",
       "      <td>0.0</td>\n",
       "      <td>0.0</td>\n",
       "      <td>0.0</td>\n",
       "      <td>0.0</td>\n",
       "      <td>0.0</td>\n",
       "      <td>0.0</td>\n",
       "    </tr>\n",
       "    <tr>\n",
       "      <th>3</th>\n",
       "      <td>0.0</td>\n",
       "      <td>0.0</td>\n",
       "      <td>0.0</td>\n",
       "      <td>0.0</td>\n",
       "      <td>0.0</td>\n",
       "      <td>0.0</td>\n",
       "      <td>0.0</td>\n",
       "      <td>0.0</td>\n",
       "      <td>0.0</td>\n",
       "      <td>0.0</td>\n",
       "      <td>...</td>\n",
       "      <td>0.0</td>\n",
       "      <td>0.0</td>\n",
       "      <td>0.0</td>\n",
       "      <td>0.0</td>\n",
       "      <td>0.0</td>\n",
       "      <td>0.0</td>\n",
       "      <td>0.0</td>\n",
       "      <td>0.0</td>\n",
       "      <td>0.0</td>\n",
       "      <td>0.0</td>\n",
       "    </tr>\n",
       "    <tr>\n",
       "      <th>4</th>\n",
       "      <td>0.0</td>\n",
       "      <td>0.0</td>\n",
       "      <td>0.0</td>\n",
       "      <td>0.0</td>\n",
       "      <td>0.0</td>\n",
       "      <td>0.0</td>\n",
       "      <td>0.0</td>\n",
       "      <td>0.0</td>\n",
       "      <td>0.0</td>\n",
       "      <td>0.0</td>\n",
       "      <td>...</td>\n",
       "      <td>0.0</td>\n",
       "      <td>0.0</td>\n",
       "      <td>0.0</td>\n",
       "      <td>0.0</td>\n",
       "      <td>0.0</td>\n",
       "      <td>0.0</td>\n",
       "      <td>0.0</td>\n",
       "      <td>0.0</td>\n",
       "      <td>0.0</td>\n",
       "      <td>0.0</td>\n",
       "    </tr>\n",
       "    <tr>\n",
       "      <th>...</th>\n",
       "      <td>...</td>\n",
       "      <td>...</td>\n",
       "      <td>...</td>\n",
       "      <td>...</td>\n",
       "      <td>...</td>\n",
       "      <td>...</td>\n",
       "      <td>...</td>\n",
       "      <td>...</td>\n",
       "      <td>...</td>\n",
       "      <td>...</td>\n",
       "      <td>...</td>\n",
       "      <td>...</td>\n",
       "      <td>...</td>\n",
       "      <td>...</td>\n",
       "      <td>...</td>\n",
       "      <td>...</td>\n",
       "      <td>...</td>\n",
       "      <td>...</td>\n",
       "      <td>...</td>\n",
       "      <td>...</td>\n",
       "      <td>...</td>\n",
       "    </tr>\n",
       "    <tr>\n",
       "      <th>95</th>\n",
       "      <td>0.0</td>\n",
       "      <td>0.0</td>\n",
       "      <td>0.0</td>\n",
       "      <td>0.0</td>\n",
       "      <td>0.0</td>\n",
       "      <td>0.0</td>\n",
       "      <td>0.0</td>\n",
       "      <td>0.0</td>\n",
       "      <td>0.0</td>\n",
       "      <td>0.0</td>\n",
       "      <td>...</td>\n",
       "      <td>0.0</td>\n",
       "      <td>0.0</td>\n",
       "      <td>0.0</td>\n",
       "      <td>0.0</td>\n",
       "      <td>0.0</td>\n",
       "      <td>0.0</td>\n",
       "      <td>0.0</td>\n",
       "      <td>0.0</td>\n",
       "      <td>0.0</td>\n",
       "      <td>0.0</td>\n",
       "    </tr>\n",
       "    <tr>\n",
       "      <th>96</th>\n",
       "      <td>0.0</td>\n",
       "      <td>0.0</td>\n",
       "      <td>0.0</td>\n",
       "      <td>0.0</td>\n",
       "      <td>0.0</td>\n",
       "      <td>0.0</td>\n",
       "      <td>0.0</td>\n",
       "      <td>0.0</td>\n",
       "      <td>0.0</td>\n",
       "      <td>0.0</td>\n",
       "      <td>...</td>\n",
       "      <td>0.0</td>\n",
       "      <td>0.0</td>\n",
       "      <td>0.0</td>\n",
       "      <td>0.0</td>\n",
       "      <td>0.0</td>\n",
       "      <td>0.0</td>\n",
       "      <td>0.0</td>\n",
       "      <td>0.0</td>\n",
       "      <td>0.0</td>\n",
       "      <td>0.0</td>\n",
       "    </tr>\n",
       "    <tr>\n",
       "      <th>97</th>\n",
       "      <td>0.0</td>\n",
       "      <td>0.0</td>\n",
       "      <td>0.0</td>\n",
       "      <td>0.0</td>\n",
       "      <td>0.0</td>\n",
       "      <td>0.0</td>\n",
       "      <td>0.0</td>\n",
       "      <td>0.0</td>\n",
       "      <td>0.0</td>\n",
       "      <td>0.0</td>\n",
       "      <td>...</td>\n",
       "      <td>0.0</td>\n",
       "      <td>0.0</td>\n",
       "      <td>0.0</td>\n",
       "      <td>0.0</td>\n",
       "      <td>0.0</td>\n",
       "      <td>0.0</td>\n",
       "      <td>0.0</td>\n",
       "      <td>0.0</td>\n",
       "      <td>0.0</td>\n",
       "      <td>0.0</td>\n",
       "    </tr>\n",
       "    <tr>\n",
       "      <th>98</th>\n",
       "      <td>0.0</td>\n",
       "      <td>0.0</td>\n",
       "      <td>0.0</td>\n",
       "      <td>0.0</td>\n",
       "      <td>0.0</td>\n",
       "      <td>0.0</td>\n",
       "      <td>0.0</td>\n",
       "      <td>0.0</td>\n",
       "      <td>0.0</td>\n",
       "      <td>0.0</td>\n",
       "      <td>...</td>\n",
       "      <td>0.0</td>\n",
       "      <td>0.0</td>\n",
       "      <td>0.0</td>\n",
       "      <td>0.0</td>\n",
       "      <td>0.0</td>\n",
       "      <td>0.0</td>\n",
       "      <td>0.0</td>\n",
       "      <td>0.0</td>\n",
       "      <td>0.0</td>\n",
       "      <td>0.0</td>\n",
       "    </tr>\n",
       "    <tr>\n",
       "      <th>99</th>\n",
       "      <td>0.0</td>\n",
       "      <td>0.0</td>\n",
       "      <td>0.0</td>\n",
       "      <td>0.0</td>\n",
       "      <td>0.0</td>\n",
       "      <td>0.0</td>\n",
       "      <td>0.0</td>\n",
       "      <td>0.0</td>\n",
       "      <td>0.0</td>\n",
       "      <td>0.0</td>\n",
       "      <td>...</td>\n",
       "      <td>0.0</td>\n",
       "      <td>0.0</td>\n",
       "      <td>0.0</td>\n",
       "      <td>0.0</td>\n",
       "      <td>0.0</td>\n",
       "      <td>0.0</td>\n",
       "      <td>0.0</td>\n",
       "      <td>0.0</td>\n",
       "      <td>0.0</td>\n",
       "      <td>0.0</td>\n",
       "    </tr>\n",
       "  </tbody>\n",
       "</table>\n",
       "<p>100 rows × 60078 columns</p>\n",
       "</div>"
      ],
      "text/plain": [
       "     aa  aa billion  aa footbal  aa target  aa target stock  aaa  aapl  \\\n",
       "0   0.0         0.0         0.0        0.0              0.0  0.0   0.0   \n",
       "1   0.0         0.0         0.0        0.0              0.0  0.0   0.0   \n",
       "2   0.0         0.0         0.0        0.0              0.0  0.0   0.0   \n",
       "3   0.0         0.0         0.0        0.0              0.0  0.0   0.0   \n",
       "4   0.0         0.0         0.0        0.0              0.0  0.0   0.0   \n",
       "..  ...         ...         ...        ...              ...  ...   ...   \n",
       "95  0.0         0.0         0.0        0.0              0.0  0.0   0.0   \n",
       "96  0.0         0.0         0.0        0.0              0.0  0.0   0.0   \n",
       "97  0.0         0.0         0.0        0.0              0.0  0.0   0.0   \n",
       "98  0.0         0.0         0.0        0.0              0.0  0.0   0.0   \n",
       "99  0.0         0.0         0.0        0.0              0.0  0.0   0.0   \n",
       "\n",
       "    aapl qtype  aapl qtype sym  aaron  ...  zone  zoo  zook  zook fire  zoom  \\\n",
       "0          0.0             0.0    0.0  ...   0.0  0.0   0.0        0.0   0.0   \n",
       "1          0.0             0.0    0.0  ...   0.0  0.0   0.0        0.0   0.0   \n",
       "2          0.0             0.0    0.0  ...   0.0  0.0   0.0        0.0   0.0   \n",
       "3          0.0             0.0    0.0  ...   0.0  0.0   0.0        0.0   0.0   \n",
       "4          0.0             0.0    0.0  ...   0.0  0.0   0.0        0.0   0.0   \n",
       "..         ...             ...    ...  ...   ...  ...   ...        ...   ...   \n",
       "95         0.0             0.0    0.0  ...   0.0  0.0   0.0        0.0   0.0   \n",
       "96         0.0             0.0    0.0  ...   0.0  0.0   0.0        0.0   0.0   \n",
       "97         0.0             0.0    0.0  ...   0.0  0.0   0.0        0.0   0.0   \n",
       "98         0.0             0.0    0.0  ...   0.0  0.0   0.0        0.0   0.0   \n",
       "99         0.0             0.0    0.0  ...   0.0  0.0   0.0        0.0   0.0   \n",
       "\n",
       "    zurich  zurich challeng  zurich reuter  zurich switzerland  zvonareva  \n",
       "0      0.0              0.0            0.0                 0.0        0.0  \n",
       "1      0.0              0.0            0.0                 0.0        0.0  \n",
       "2      0.0              0.0            0.0                 0.0        0.0  \n",
       "3      0.0              0.0            0.0                 0.0        0.0  \n",
       "4      0.0              0.0            0.0                 0.0        0.0  \n",
       "..     ...              ...            ...                 ...        ...  \n",
       "95     0.0              0.0            0.0                 0.0        0.0  \n",
       "96     0.0              0.0            0.0                 0.0        0.0  \n",
       "97     0.0              0.0            0.0                 0.0        0.0  \n",
       "98     0.0              0.0            0.0                 0.0        0.0  \n",
       "99     0.0              0.0            0.0                 0.0        0.0  \n",
       "\n",
       "[100 rows x 60078 columns]"
      ]
     },
     "execution_count": 37,
     "metadata": {},
     "output_type": "execute_result"
    }
   ],
   "source": [
    "pd.DataFrame(train_array[:100] , columns=TfIdf.get_feature_names())"
   ]
  },
  {
   "cell_type": "markdown",
   "metadata": {},
   "source": [
    "### Training of Model"
   ]
  },
  {
   "cell_type": "code",
   "execution_count": 38,
   "metadata": {
    "execution": {
     "iopub.execute_input": "2022-04-27T16:20:02.261641Z",
     "iopub.status.busy": "2022-04-27T16:20:02.261364Z",
     "iopub.status.idle": "2022-04-27T16:20:02.365189Z",
     "shell.execute_reply": "2022-04-27T16:20:02.364537Z",
     "shell.execute_reply.started": "2022-04-27T16:20:02.261607Z"
    }
   },
   "outputs": [],
   "source": [
    "from sklearn.naive_bayes import MultinomialNB\n",
    "from sklearn.metrics import f1_score, accuracy_score\n",
    "from sklearn.tree import DecisionTreeClassifier\n",
    "from sklearn.naive_bayes import GaussianNB\n",
    "from sklearn.linear_model import SGDClassifier\n",
    "from lightgbm import LGBMClassifier"
   ]
  },
  {
   "cell_type": "code",
   "execution_count": 39,
   "metadata": {
    "execution": {
     "iopub.execute_input": "2022-04-27T16:20:02.367035Z",
     "iopub.status.busy": "2022-04-27T16:20:02.366630Z",
     "iopub.status.idle": "2022-04-27T16:20:02.381102Z",
     "shell.execute_reply": "2022-04-27T16:20:02.378713Z",
     "shell.execute_reply.started": "2022-04-27T16:20:02.366998Z"
    }
   },
   "outputs": [],
   "source": [
    "def models(model_name,model):\n",
    "    print(\"Model ==> \",model_name )\n",
    "    print()\n",
    "    print()\n",
    "    \n",
    "    model.fit(train_array,train_y)\n",
    "    pred = model.predict(test_array)\n",
    "    \n",
    "    print(\"first 20 actual labels\")\n",
    "    print(test_y.tolist()[:20])\n",
    "    print(\"first 20 predicted labels\")\n",
    "    print(pred.tolist()[:20])\n",
    "    \n",
    "    print()\n",
    "    print()\n",
    "    \n",
    "    print('======================// Evaluation of Results //===========================')\n",
    "    print()\n",
    "    print(\"F1 score of the model ==> \",f1_score(test_y,pred,average ='micro' ))\n",
    "    print('Accuracy of the model ==> ',round(accuracy_score(test_y,pred)*100,3),\"%\")\n",
    "    \n",
    "    print()\n",
    "    print()\n",
    "    \n",
    "    print('======================// Confusion matrix //===========================')\n",
    "    print()\n",
    "\n",
    "    from sklearn.metrics import  confusion_matrix\n",
    "    sns.set(font_scale=1.5)\n",
    "    cof=confusion_matrix(test_y, pred)\n",
    "    cof=pd.DataFrame(cof, index=[i for i in range(1,5)], columns=[i for i in range(1,5)])\n",
    "    plt.figure(figsize=(8,8))\n",
    "\n",
    "    sns.heatmap(cof, cmap=\"PuRd\",linewidths=1, annot=True,square=True,cbar=False,fmt='d',xticklabels=['World','Sports','Business','Science'],yticklabels=['World','Sports','Business','Science'])\n",
    "    plt.xlabel(\"Predicted Class\");\n",
    "    plt.ylabel(\"Actual Class\");\n",
    "\n",
    "    plt.title(\"Confusion Matrix for News Article Classification\");"
   ]
  },
  {
   "cell_type": "code",
   "execution_count": 40,
   "metadata": {
    "execution": {
     "iopub.execute_input": "2022-04-27T16:20:02.384065Z",
     "iopub.status.busy": "2022-04-27T16:20:02.383506Z",
     "iopub.status.idle": "2022-04-27T16:20:30.862153Z",
     "shell.execute_reply": "2022-04-27T16:20:30.861321Z",
     "shell.execute_reply.started": "2022-04-27T16:20:02.384005Z"
    }
   },
   "outputs": [
    {
     "name": "stdout",
     "output_type": "stream",
     "text": [
      "Model ==>  MultinomialNB\n",
      "\n",
      "\n",
      "first 20 actual labels\n",
      "[3, 4, 4, 4, 4, 4, 4, 4, 4, 4, 4, 4, 4, 4, 4, 4, 4, 4, 4, 4]\n",
      "first 20 predicted labels\n",
      "[3, 4, 4, 4, 4, 4, 4, 4, 1, 4, 4, 4, 4, 4, 4, 4, 4, 4, 4, 3]\n",
      "\n",
      "\n",
      "======================// Evaluation of Results //===========================\n",
      "\n",
      "F1 score of the model ==>  0.895921052631579\n",
      "Accuracy of the model ==>  89.592 %\n",
      "\n",
      "\n",
      "======================// Confusion matrix //===========================\n",
      "\n"
     ]
    },
    {
     "data": {
      "image/png": "[encoded data removed]",
      "text/plain": [
       "<Figure size 576x576 with 1 Axes>"
      ]
     },
     "metadata": {},
     "output_type": "display_data"
    }
   ],
   "source": [
    "NB_MN = MultinomialNB(alpha=0.52)\n",
    "name = \"MultinomialNB\"\n",
    "models(name, NB_MN)"
   ]
  },
  {
   "cell_type": "code",
   "execution_count": 41,
   "metadata": {
    "execution": {
     "iopub.execute_input": "2022-04-27T16:20:30.868520Z",
     "iopub.status.busy": "2022-04-27T16:20:30.866317Z",
     "iopub.status.idle": "2022-04-27T16:20:30.874062Z",
     "shell.execute_reply": "2022-04-27T16:20:30.873406Z",
     "shell.execute_reply.started": "2022-04-27T16:20:30.868480Z"
    }
   },
   "outputs": [],
   "source": [
    "# SGD=SGDClassifier()\n",
    "# name= \"SGDClassifier\"\n",
    "# models(name,SGD)"
   ]
  },
  {
   "cell_type": "code",
   "execution_count": 42,
   "metadata": {
    "execution": {
     "iopub.execute_input": "2022-04-27T16:20:30.879496Z",
     "iopub.status.busy": "2022-04-27T16:20:30.878533Z",
     "iopub.status.idle": "2022-04-27T16:20:30.884971Z",
     "shell.execute_reply": "2022-04-27T16:20:30.884244Z",
     "shell.execute_reply.started": "2022-04-27T16:20:30.879461Z"
    }
   },
   "outputs": [],
   "source": [
    "# lgbm=LGBMClassifier()\n",
    "# name= \"LGBMClassifier\"\n",
    "# models(name,lgbm)"
   ]
  },
  {
   "cell_type": "markdown",
   "metadata": {},
   "source": [
    "## Other method"
   ]
  },
  {
   "cell_type": "markdown",
   "metadata": {},
   "source": [
    "One definition of an ML pipeline is a means of automating the machine learning workflow by enabling data to be transformed and correlated into a model that can then be analyzed to achieve outputs. This type of ML pipeline makes the process of inputting data into the ML model fully automated."
   ]
  },
  {
   "cell_type": "code",
   "execution_count": 43,
   "metadata": {
    "execution": {
     "iopub.execute_input": "2022-04-27T16:20:30.887783Z",
     "iopub.status.busy": "2022-04-27T16:20:30.886719Z",
     "iopub.status.idle": "2022-04-27T16:20:35.442204Z",
     "shell.execute_reply": "2022-04-27T16:20:35.441464Z",
     "shell.execute_reply.started": "2022-04-27T16:20:30.887748Z"
    }
   },
   "outputs": [
    {
     "data": {
      "text/plain": [
       "Pipeline(memory=None,\n",
       "         steps=[('vect',\n",
       "                 TfidfVectorizer(analyzer='word', binary=False,\n",
       "                                 decode_error='strict',\n",
       "                                 dtype=<class 'numpy.float64'>,\n",
       "                                 encoding='utf-8', input='content',\n",
       "                                 lowercase=True, max_df=1.0, max_features=None,\n",
       "                                 min_df=1, ngram_range=(1, 1), norm='l2',\n",
       "                                 preprocessor=None, smooth_idf=True,\n",
       "                                 stop_words=None, strip_accents=None,\n",
       "                                 sublinear_tf=False,\n",
       "                                 token_pattern='(...\n",
       "                 SGDClassifier(alpha=0.0001, average=False, class_weight=None,\n",
       "                               early_stopping=False, epsilon=0.1, eta0=0.0,\n",
       "                               fit_intercept=True, l1_ratio=0.15,\n",
       "                               learning_rate='optimal', loss='hinge',\n",
       "                               max_iter=1000, n_iter_no_change=5, n_jobs=None,\n",
       "                               penalty='l2', power_t=0.5, random_state=None,\n",
       "                               shuffle=True, tol=0.001, validation_fraction=0.1,\n",
       "                               verbose=0, warm_start=False))],\n",
       "         verbose=False)"
      ]
     },
     "execution_count": 43,
     "metadata": {},
     "output_type": "execute_result"
    }
   ],
   "source": [
    "from sklearn.pipeline import Pipeline\n",
    "from sklearn.feature_extraction.text import TfidfTransformer\n",
    "\n",
    "def news_models():\n",
    "    new_model = Pipeline([\n",
    "            ('vect' , TfidfVectorizer()),\n",
    "            ('tfidf',TfidfTransformer()),\n",
    "            ('SGD',SGDClassifier())])\n",
    "    return new_model\n",
    "\n",
    "model = news_models()\n",
    "model.fit(train_x,train_y)"
   ]
  },
  {
   "cell_type": "code",
   "execution_count": 44,
   "metadata": {
    "execution": {
     "iopub.execute_input": "2022-04-27T16:20:35.446370Z",
     "iopub.status.busy": "2022-04-27T16:20:35.446161Z",
     "iopub.status.idle": "2022-04-27T16:20:35.679401Z",
     "shell.execute_reply": "2022-04-27T16:20:35.678582Z",
     "shell.execute_reply.started": "2022-04-27T16:20:35.446346Z"
    }
   },
   "outputs": [
    {
     "name": "stdout",
     "output_type": "stream",
     "text": [
      "first 20 actual labels\n",
      "[3, 4, 4, 4, 4, 4, 4, 4, 4, 4, 4, 4, 4, 4, 4, 4, 4, 4, 4, 4]\n",
      "first 20 predicted labels\n",
      "[3, 4, 4, 2, 4, 4, 4, 4, 4, 4, 4, 4, 4, 4, 4, 4, 4, 4, 4, 3]\n"
     ]
    }
   ],
   "source": [
    "pred = model.predict(test_x)\n",
    "print(\"first 20 actual labels\")\n",
    "print(test_y.tolist()[:20])\n",
    "print(\"first 20 predicted labels\")\n",
    "print(pred.tolist()[:20])"
   ]
  },
  {
   "cell_type": "code",
   "execution_count": 45,
   "metadata": {
    "execution": {
     "iopub.execute_input": "2022-04-27T16:20:35.681229Z",
     "iopub.status.busy": "2022-04-27T16:20:35.680923Z",
     "iopub.status.idle": "2022-04-27T16:20:35.694704Z",
     "shell.execute_reply": "2022-04-27T16:20:35.694120Z",
     "shell.execute_reply.started": "2022-04-27T16:20:35.681194Z"
    }
   },
   "outputs": [
    {
     "name": "stdout",
     "output_type": "stream",
     "text": [
      "======================// Evaluation of Results //===========================\n",
      "\n",
      "F1 score of the model ==>  0.9036842105263158\n",
      "Accuracy of the model ==>  90.368 %\n"
     ]
    }
   ],
   "source": [
    "print('======================// Evaluation of Results //===========================')\n",
    "print()\n",
    "print(\"F1 score of the model ==> \",f1_score(test_y,pred,average ='micro' ))\n",
    "print('Accuracy of the model ==> ',round(accuracy_score(test_y,pred)*100,3),\"%\")"
   ]
  },
  {
   "cell_type": "markdown",
   "metadata": {},
   "source": [
    "## Save to pickled file using joblib"
   ]
  },
  {
   "cell_type": "code",
   "execution_count": 46,
   "metadata": {
    "execution": {
     "iopub.execute_input": "2022-04-27T16:20:35.696415Z",
     "iopub.status.busy": "2022-04-27T16:20:35.695996Z",
     "iopub.status.idle": "2022-04-27T16:20:37.818189Z",
     "shell.execute_reply": "2022-04-27T16:20:37.817496Z",
     "shell.execute_reply.started": "2022-04-27T16:20:35.696373Z"
    }
   },
   "outputs": [],
   "source": [
    "import joblib\n",
    "\n",
    "# Save the model as a pickle in a file\n",
    "joblib.dump(model, 'news_article_model.pkl')\n",
    "# Load the model from the file\n",
    "news_model = joblib.load('news_article_model.pkl')"
   ]
  },
  {
   "cell_type": "code",
   "execution_count": 47,
   "metadata": {
    "execution": {
     "iopub.execute_input": "2022-04-27T16:20:37.820845Z",
     "iopub.status.busy": "2022-04-27T16:20:37.820364Z",
     "iopub.status.idle": "2022-04-27T16:20:38.049982Z",
     "shell.execute_reply": "2022-04-27T16:20:38.049128Z",
     "shell.execute_reply.started": "2022-04-27T16:20:37.820805Z"
    }
   },
   "outputs": [
    {
     "data": {
      "text/plain": [
       "array([3, 4, 4, ..., 2, 3, 3])"
      ]
     },
     "execution_count": 47,
     "metadata": {},
     "output_type": "execute_result"
    }
   ],
   "source": [
    "news_model.predict(test_x)"
   ]
  },
  {
   "cell_type": "markdown",
   "metadata": {},
   "source": [
    "## New User data"
   ]
  },
  {
   "cell_type": "markdown",
   "metadata": {},
   "source": [
    "### Take Data from User"
   ]
  },
  {
   "cell_type": "code",
   "execution_count": 48,
   "metadata": {
    "execution": {
     "iopub.execute_input": "2022-04-27T16:20:38.051560Z",
     "iopub.status.busy": "2022-04-27T16:20:38.051273Z",
     "iopub.status.idle": "2022-04-27T16:20:38.068549Z",
     "shell.execute_reply": "2022-04-27T16:20:38.067936Z",
     "shell.execute_reply.started": "2022-04-27T16:20:38.051522Z"
    }
   },
   "outputs": [],
   "source": [
    "def striphtml(data):\n",
    "    p = re.compile(r'<.*?>')\n",
    "    return p.sub('', data)\n",
    "\n",
    "def remove_url(data):\n",
    "    return  re.sub(r'\\s*(?:https?://)?www\\.\\S*\\.[A-Za-z]{2,5}\\s*', ' ', data).strip()\n",
    "\n",
    "def lower_case(data):\n",
    "    return data.lower()\n",
    "\n",
    "def word_tok(data):\n",
    "    tokens = re.findall(\"[\\w']+\", data)\n",
    "#     print(tokens)\n",
    "    return tokens\n",
    "\n",
    "def remove_stopwords(data):\n",
    "    stopWords = stopwords.words('english')\n",
    "    new_list = []\n",
    "    for i in data:\n",
    "        if i.lower() not in stopWords:\n",
    "            new_list.append(i)\n",
    "#     print(new_list)\n",
    "    return new_list\n",
    "\n",
    "def remove_punctuations(data):\n",
    "    new_list = []\n",
    "    for i in data:\n",
    "        for j in s.punctuation:\n",
    "            i = i.replace(j,'')\n",
    "        new_list.append(i)\n",
    "    return new_list\n",
    "\n",
    "def remove_number(data):\n",
    "    no_digit_list = []\n",
    "    new_list = []\n",
    "    \n",
    "    for i in data:\n",
    "        for j in s.digits:\n",
    "            i = i.replace(j,'')\n",
    "        no_digit_list.append(i)\n",
    "    \n",
    "    for i in no_digit_list:\n",
    "        if i!='':\n",
    "            new_list.append(i)\n",
    "    return new_list\n",
    "\n",
    "def stemming(data):\n",
    "    porter_stemmer = nltk.PorterStemmer()\n",
    "    roots = [porter_stemmer.stem(i) for i in data]\n",
    "    return roots\n",
    "\n",
    "def lemmatization(data):\n",
    "    lemmatizer = nltk.stem.WordNetLemmatizer()\n",
    "    roots = [lemmatizer.lemmatize(i) for i in data]\n",
    "    return roots\n",
    "\n",
    "def remove_extraWords(data):\n",
    "    extra_words =['href','iii','lt','gt','ii','com','quot']\n",
    "    \n",
    "    new_list = []\n",
    "    for i in data:\n",
    "        if i not in extra_words:\n",
    "            new_list.append(i)\n",
    "    return new_list"
   ]
  },
  {
   "cell_type": "code",
   "execution_count": 49,
   "metadata": {
    "execution": {
     "iopub.execute_input": "2022-04-27T16:32:50.525734Z",
     "iopub.status.busy": "2022-04-27T16:32:50.525313Z",
     "iopub.status.idle": "2022-04-27T16:32:50.530237Z",
     "shell.execute_reply": "2022-04-27T16:32:50.529484Z",
     "shell.execute_reply.started": "2022-04-27T16:32:50.525697Z"
    }
   },
   "outputs": [],
   "source": [
    "# userInput = input(\"Enter text: \")\n",
    "\n",
    "userInput = 'The first five cases were flagged in Scotland on March 31 by \"astute clinicians, realising they were seeing something unusual\", said Meera Chand, director of clinical and emerging infections at the UK Health Security Agency. The children did not have any of the five known hepatitis viruses, A, B, C, D and E, Chand said. Such cases are very rare as the Scottish doctors would normally see four to five unknown hepatitis cases in a year, news agency AFP reported quoting the doctor.'"
   ]
  },
  {
   "cell_type": "code",
   "execution_count": 50,
   "metadata": {
    "execution": {
     "iopub.execute_input": "2022-04-27T16:32:54.813376Z",
     "iopub.status.busy": "2022-04-27T16:32:54.813097Z",
     "iopub.status.idle": "2022-04-27T16:32:54.823909Z",
     "shell.execute_reply": "2022-04-27T16:32:54.823154Z",
     "shell.execute_reply.started": "2022-04-27T16:32:54.813347Z"
    }
   },
   "outputs": [],
   "source": [
    "userInput = striphtml(userInput)\n",
    "userInput = remove_url(userInput)\n",
    "userInput = lower_case(userInput)\n",
    "userInput = word_tok(userInput)\n",
    "userInput = remove_stopwords(userInput)\n",
    "userInput = remove_punctuations(userInput)\n",
    "userInput = remove_number(userInput)\n",
    "userInput = stemming(userInput)\n",
    "userInput = lemmatization(userInput)\n",
    "userInput = remove_extraWords(userInput)\n",
    "userInput = [\" \".join(map(str, userInput))]"
   ]
  },
  {
   "cell_type": "code",
   "execution_count": 51,
   "metadata": {
    "execution": {
     "iopub.execute_input": "2022-04-27T16:32:56.156438Z",
     "iopub.status.busy": "2022-04-27T16:32:56.156153Z",
     "iopub.status.idle": "2022-04-27T16:32:56.168460Z",
     "shell.execute_reply": "2022-04-27T16:32:56.167544Z",
     "shell.execute_reply.started": "2022-04-27T16:32:56.156396Z"
    }
   },
   "outputs": [
    {
     "name": "stdout",
     "output_type": "stream",
     "text": [
      "World News\n"
     ]
    }
   ],
   "source": [
    "result = news_model.predict(userInput)\n",
    "if result[0] == 1:\n",
    "    print(\"World News\")\n",
    "elif result[0] == 2:\n",
    "    print('Sports News')\n",
    "elif result[0] == 3:\n",
    "    print('Business News')\n",
    "elif result[0] == 4:\n",
    "    print('Science-Technology News')"
   ]
  },
  {
   "cell_type": "code",
   "execution_count": null,
   "metadata": {},
   "outputs": [],
   "source": []
  },
  {
   "cell_type": "code",
   "execution_count": null,
   "metadata": {},
   "outputs": [],
   "source": []
  },
  {
   "cell_type": "code",
   "execution_count": null,
   "metadata": {},
   "outputs": [],
   "source": []
  }
 ],
 "metadata": {
  "kernelspec": {
   "display_name": "Python 3",
   "language": "python",
   "name": "python3"
  },
  "language_info": {
   "codemirror_mode": {
    "name": "ipython",
    "version": 3
   },
   "file_extension": ".py",
   "mimetype": "text/x-python",
   "name": "python",
   "nbconvert_exporter": "python",
   "pygments_lexer": "ipython3",
   "version": "3.6.6"
  }
 },
 "nbformat": 4,
 "nbformat_minor": 4
}
